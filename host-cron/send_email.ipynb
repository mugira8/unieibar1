{
 "cells": [
  {
   "cell_type": "code",
   "execution_count": 1,
   "id": "4cf15142-f9f2-49b1-b0f0-73dc05a99700",
   "metadata": {},
   "outputs": [],
   "source": [
    "#Datu basera konekzioa"
   ]
  },
  {
   "cell_type": "code",
   "execution_count": 2,
   "id": "670b79b1-8ae1-49dd-ad3e-49a0571f2454",
   "metadata": {},
   "outputs": [],
   "source": [
    "import pymysql\n",
    "\n",
    "mydb = pymysql.connect(\n",
    "  host=\"localhost\",\n",
    "  user=\"root\",\n",
    "  password=\"\",\n",
    "  database=\"bdweb\"\n",
    ")\n",
    "\n",
    "mycursor = mydb.cursor()\n",
    "\n",
    "mycursor.execute(\"SELECT username FROM users WHERE irudia=''\")\n",
    "\n",
    "myresult = mycursor.fetchall()"
   ]
  },
  {
   "cell_type": "code",
   "execution_count": 3,
   "id": "d8c37c3a-7d73-4821-b717-a9f00d5f7d01",
   "metadata": {},
   "outputs": [],
   "source": [
    "#Email-a bidali"
   ]
  },
  {
   "cell_type": "code",
   "execution_count": 4,
   "id": "a1d9efa3-bbd1-41dd-814f-b5c945086658",
   "metadata": {},
   "outputs": [
    {
     "data": {
      "text/plain": [
       "(221, b'Goodbye')"
      ]
     },
     "execution_count": 4,
     "metadata": {},
     "output_type": "execute_result"
    }
   ],
   "source": [
    "import smtplib\n",
    "\n",
    "from email.message import EmailMessage\n",
    "\n",
    "s = smtplib.SMTP('localhost',2525)\n",
    "\n",
    "for x in myresult:\n",
    "    msg = EmailMessage()\n",
    "    msg.set_content(\"Irudia derrigorrezkoa da, mesedez igo ahal duzunean.\")\n",
    "    msg['Subject'] = 'Irudia falta da'\n",
    "    msg['From'] = \"admin@bdweb\"\n",
    "    msg['To'] = x\n",
    "    s.send_message(msg)\n",
    "s.quit()"
   ]
  }
 ],
 "metadata": {
  "kernelspec": {
   "display_name": "Python 3 (ipykernel)",
   "language": "python",
   "name": "python3"
  },
  "language_info": {
   "codemirror_mode": {
    "name": "ipython",
    "version": 3
   },
   "file_extension": ".py",
   "mimetype": "text/x-python",
   "name": "python",
   "nbconvert_exporter": "python",
   "pygments_lexer": "ipython3",
   "version": "3.10.8"
  }
 },
 "nbformat": 4,
 "nbformat_minor": 5
}
